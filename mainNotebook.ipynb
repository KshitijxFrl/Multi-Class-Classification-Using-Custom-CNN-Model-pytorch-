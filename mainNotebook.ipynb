{
 "cells": [
  {
   "cell_type": "markdown",
   "metadata": {},
   "source": [
    "> # **Multi Class Classification Using A CNN Model**"
   ]
  },
  {
   "cell_type": "markdown",
   "metadata": {},
   "source": [
    "**Importing Libraries**"
   ]
  },
  {
   "cell_type": "code",
   "execution_count": 6,
   "metadata": {},
   "outputs": [],
   "source": [
    "import os\n",
    "import torch\n",
    "import torch.nn as nn\n",
    "import torch.nn.functional as F\n",
    "from torch.utils.data import DataLoader\n",
    "import torchvision  \n",
    "from torchvision.transforms import transforms\n",
    "import pathlib\n",
    "import numpy as np\n",
    "from torch.autograd import Variable"
   ]
  },
  {
   "cell_type": "markdown",
   "metadata": {},
   "source": [
    "**Changing Device To GPU from CPU**"
   ]
  },
  {
   "cell_type": "code",
   "execution_count": 2,
   "metadata": {},
   "outputs": [],
   "source": [
    "device = torch.device('cuda' if torch.cuda.is_available() else 'cpu')"
   ]
  },
  {
   "cell_type": "markdown",
   "metadata": {},
   "source": [
    "**Preparing A Data Augmenter**"
   ]
  },
  {
   "cell_type": "code",
   "execution_count": 3,
   "metadata": {},
   "outputs": [],
   "source": [
    "imageAugment = transforms.Compose([\n",
    "    transforms.Resize((160,160)),\n",
    "    transforms.RandomHorizontalFlip(),\n",
    "    transforms.ToTensor(),\n",
    "    transforms.Normalize([0.5,0.5,0.5],\n",
    "                         [0.5,0.5,0.5])\n",
    "])"
   ]
  },
  {
   "cell_type": "markdown",
   "metadata": {},
   "source": [
    "**Importing And Prcessing The Data**"
   ]
  },
  {
   "cell_type": "code",
   "execution_count": 4,
   "metadata": {},
   "outputs": [],
   "source": [
    "trainpath = 'E:\\Multi_Class_Classification_Using_Cnn(pytorch)\\dataset'\n",
    "testpath  = 'E:\\Multi_Class_Classification_Using_Cnn(pytorch)\\testpath'"
   ]
  },
  {
   "cell_type": "code",
   "execution_count": 5,
   "metadata": {},
   "outputs": [],
   "source": [
    "traindata = DataLoader(torchvision.datasets.ImageFolder(trainpath,transform= imageAugment),batch_size=8,shuffle=True)\n",
    "testdata  = DataLoader(torchvision.datasets.ImageFolder(trainpath,transform= imageAugment),batch_size=8,shuffle=True)"
   ]
  },
  {
   "cell_type": "code",
   "execution_count": 44,
   "metadata": {},
   "outputs": [
    {
     "name": "stdout",
     "output_type": "stream",
     "text": [
      "['airplane', 'bus', 'cats', 'dogs']\n"
     ]
    }
   ],
   "source": [
    "root = pathlib.Path(trainpath)\n",
    "classes = sorted([j.name.split('/')[-1] for j in root.iterdir()])\n",
    "print(classes)"
   ]
  },
  {
   "cell_type": "markdown",
   "metadata": {},
   "source": [
    "**Creating A New Custom Cnn Model For Classification**"
   ]
  },
  {
   "cell_type": "code",
   "execution_count": 46,
   "metadata": {},
   "outputs": [],
   "source": [
    "def creatModel():\n",
    "    class netX64(nn.Module):\n",
    "        def __init__(self):\n",
    "            super().__init__()\n",
    "\n",
    "            # ------------convolutional layers--------------\n",
    "\n",
    "            self.conv1 = nn.Conv2d(3,8,3,padding=1)\n",
    "            # size: np.floor( (160+2*1-3)/1 )+1 = 160/2 = 80 (/2 because of maxpool)\n",
    "\n",
    "            self.conv2 = nn.Conv2d(8,16,3,padding=1)\n",
    "            # size: np.floor( (80+2*1-3)/1 )+1 = 80/2 = 40 (/2 because of maxpool)\n",
    "\n",
    "            self.conv3 = nn.Conv2d(16,32,3,padding=1)\n",
    "            # size: np.floor( (40+2*1-3)/1 )+1 = 40/2 = 20 (/2 because of maxpool)\n",
    "\n",
    "            self.conv4 = nn.Conv2d(32,64,3,padding=1)\n",
    "            # size: np.floor( (20+2*1-3)/1 )+1 = 20/2 = 10 (/2 because of maxpool)\n",
    "\n",
    "            #---------------Feed Forward layers--------------\n",
    "\n",
    "            self.fc1 = nn.Linear(10*10*64,32)\n",
    "            self.fc2 = nn.Linear(32,16)\n",
    "            self.fc3 = nn.Linear(16,4)\n",
    "        \n",
    "        \n",
    "        \n",
    "         \n",
    "        def forward(self,x):\n",
    "            x = F.relu(F.max_pool2d(self.conv1(x),2))\n",
    "            x = F.relu(F.max_pool2d(self.conv2(x),2))\n",
    "            x = F.relu(F.max_pool2d(self.conv3(x),2))\n",
    "            x = F.relu(F.max_pool2d(self.conv4(x),2)) \n",
    "\n",
    "            # Reshaping the x for linear layers\n",
    "            x = x.reshape(-1,10*10*64)\n",
    "\n",
    "            x = F.relu(self.fc1(x))\n",
    "            x = F.relu(self.fc2(x))\n",
    "            x = F.relu(self.fc3(x))\n",
    "\n",
    "            return x \n",
    "\n",
    "    model  = netX64()\n",
    "\n",
    "    lossfun = nn.CrossEntropyLoss()\n",
    "\n",
    "    # optimizer\n",
    "    optimizer = torch.optim.Adam(model.parameters(),lr=.001)\n",
    "\n",
    "\n",
    "\n",
    "    return model,lossfun,optimizer\n"
   ]
  },
  {
   "cell_type": "markdown",
   "metadata": {},
   "source": [
    "**Visualizing The Model Details**"
   ]
  },
  {
   "cell_type": "code",
   "execution_count": 48,
   "metadata": {},
   "outputs": [
    {
     "name": "stdout",
     "output_type": "stream",
     "text": [
      "----------------------------------------------------------------\n",
      "        Layer (type)               Output Shape         Param #\n",
      "================================================================\n",
      "            Conv2d-1          [-1, 8, 160, 160]             224\n",
      "            Conv2d-2           [-1, 16, 80, 80]           1,168\n",
      "            Conv2d-3           [-1, 32, 40, 40]           4,640\n",
      "            Conv2d-4           [-1, 64, 20, 20]          18,496\n",
      "            Linear-5                   [-1, 32]         204,832\n",
      "            Linear-6                   [-1, 16]             528\n",
      "            Linear-7                    [-1, 4]              68\n",
      "================================================================\n",
      "Total params: 229,956\n",
      "Trainable params: 229,956\n",
      "Non-trainable params: 0\n",
      "----------------------------------------------------------------\n",
      "Input size (MB): 0.29\n",
      "Forward/backward pass size (MB): 2.93\n",
      "Params size (MB): 0.88\n",
      "Estimated Total Size (MB): 4.10\n",
      "----------------------------------------------------------------\n"
     ]
    }
   ],
   "source": [
    "from torchsummary import summary\n",
    "\n",
    "model,_,_ = creatModel()\n",
    "summary(model.to(device),(3,160,160))"
   ]
  },
  {
   "cell_type": "markdown",
   "metadata": {},
   "source": [
    "**Creating Function Which Train and Test The Model**"
   ]
  },
  {
   "cell_type": "code",
   "execution_count": 49,
   "metadata": {},
   "outputs": [],
   "source": [
    "def InitializeTheModel(printlog):\n",
    "\n",
    "  # number of epochs\n",
    "  numepochs = 40\n",
    "  \n",
    "  # create a new model\n",
    "  net,lossfun,optimizer = creatModel()\n",
    "\n",
    "  # send the model to the GPU\n",
    "  net.to(device)\n",
    "\n",
    "  # initialize losses\n",
    "  trainLoss = torch.zeros(numepochs)\n",
    "  trainAcc  = torch.zeros(numepochs)\n",
    "  testLoss = torch.zeros(numepochs)\n",
    "  testAcc  = torch.zeros(numepochs)\n",
    "\n",
    "\n",
    "\n",
    "  # loop over epochs\n",
    "  for epochi in range(numepochs):\n",
    "\n",
    "    # loop over training data batches\n",
    "    net.train()\n",
    "    batchLoss = []\n",
    "    batchAcc  = []\n",
    "    for X,y in traindata:\n",
    "\n",
    "      # push data to GPU\n",
    "      X = X.to(device)\n",
    "      y = y.to(device)\n",
    "\n",
    "      # forward pass and loss\n",
    "      yHat = net(X)\n",
    "      loss = lossfun(yHat,y)\n",
    "\n",
    "      # backprop\n",
    "      optimizer.zero_grad()\n",
    "      loss.backward()\n",
    "      optimizer.step()\n",
    "\n",
    "      # loss and error from this batch\n",
    "      batchLoss.append(loss.item())\n",
    "      batchAcc.append( torch.mean((torch.argmax(yHat,axis=1) == y).float()).item() )\n",
    "    # end of batch loop...\n",
    "    \n",
    "    trainLoss[epochi] = np.mean(batchLoss)\n",
    "    trainAcc[epochi]  = 100*np.mean(batchAcc)\n",
    "\n",
    "    net.eval()\n",
    "    X,y = next(iter(testdata)) # extract X,y from test dataloader\n",
    "\n",
    "    # push data to GPU\n",
    "    X = X.to(device)\n",
    "    y = y.to(device)\n",
    "\n",
    "    with torch.no_grad(): # deactivates autograd\n",
    "      yHat = net(X)\n",
    "      loss = lossfun(yHat,y)\n",
    "      \n",
    "    # get loss and error rate from the test batch\n",
    "    testLoss[epochi] = loss.item()\n",
    "    testAcc[epochi]  = 100*torch.mean((torch.argmax(yHat,axis=1) == y).float()).item()\n",
    "\n",
    "\n",
    "\n",
    "\n",
    "    output_log = f'On Epoch:{epochi}.The Model Accuracy is:{trainAcc[epochi]} and the loss is:{trainLoss[epochi]}.With A Test Accuracy Of {testAcc[epochi]}.\\n'\n",
    "\n",
    "    print(output_log) if printlog else None\n",
    "\n",
    "    \n"
   ]
  },
  {
   "cell_type": "markdown",
   "metadata": {},
   "source": [
    "**Final Model**"
   ]
  },
  {
   "cell_type": "code",
   "execution_count": 50,
   "metadata": {},
   "outputs": [
    {
     "name": "stdout",
     "output_type": "stream",
     "text": [
      "On Epoch:0.The Model Accuracy is:18.33333396911621 and the loss is:1.4005851745605469.With A Test Accuracy Of 12.5.\n",
      "\n",
      "On Epoch:1.The Model Accuracy is:25.0 and the loss is:1.3835759162902832.With A Test Accuracy Of 37.5.\n",
      "\n",
      "On Epoch:2.The Model Accuracy is:39.16666793823242 and the loss is:1.3282577991485596.With A Test Accuracy Of 75.0.\n",
      "\n",
      "On Epoch:3.The Model Accuracy is:45.0 and the loss is:1.2320623397827148.With A Test Accuracy Of 50.0.\n",
      "\n",
      "On Epoch:4.The Model Accuracy is:50.83333206176758 and the loss is:1.1387454271316528.With A Test Accuracy Of 87.5.\n",
      "\n",
      "On Epoch:5.The Model Accuracy is:46.66666793823242 and the loss is:1.0836602449417114.With A Test Accuracy Of 37.5.\n",
      "\n",
      "On Epoch:6.The Model Accuracy is:54.16666793823242 and the loss is:0.9935661554336548.With A Test Accuracy Of 25.0.\n",
      "\n",
      "On Epoch:7.The Model Accuracy is:60.83333206176758 and the loss is:0.9079269766807556.With A Test Accuracy Of 62.5.\n",
      "\n",
      "On Epoch:8.The Model Accuracy is:60.83333206176758 and the loss is:0.8831343054771423.With A Test Accuracy Of 87.5.\n",
      "\n",
      "On Epoch:9.The Model Accuracy is:64.16666412353516 and the loss is:0.8203497529029846.With A Test Accuracy Of 87.5.\n",
      "\n",
      "On Epoch:10.The Model Accuracy is:67.5 and the loss is:0.7482379674911499.With A Test Accuracy Of 75.0.\n",
      "\n",
      "On Epoch:11.The Model Accuracy is:71.66666412353516 and the loss is:0.6736127734184265.With A Test Accuracy Of 87.5.\n",
      "\n",
      "On Epoch:12.The Model Accuracy is:65.0 and the loss is:0.7446249127388.With A Test Accuracy Of 100.0.\n",
      "\n",
      "On Epoch:13.The Model Accuracy is:64.16666412353516 and the loss is:0.7059323191642761.With A Test Accuracy Of 62.5.\n",
      "\n",
      "On Epoch:14.The Model Accuracy is:70.0 and the loss is:0.6722493171691895.With A Test Accuracy Of 62.5.\n",
      "\n",
      "On Epoch:15.The Model Accuracy is:70.83333587646484 and the loss is:0.6413624882698059.With A Test Accuracy Of 100.0.\n",
      "\n",
      "On Epoch:16.The Model Accuracy is:72.5 and the loss is:0.6378775835037231.With A Test Accuracy Of 62.5.\n",
      "\n",
      "On Epoch:17.The Model Accuracy is:69.16666412353516 and the loss is:0.6811764240264893.With A Test Accuracy Of 87.5.\n",
      "\n",
      "On Epoch:18.The Model Accuracy is:70.0 and the loss is:0.6128705739974976.With A Test Accuracy Of 87.5.\n",
      "\n",
      "On Epoch:19.The Model Accuracy is:74.16666412353516 and the loss is:0.571091890335083.With A Test Accuracy Of 75.0.\n",
      "\n",
      "On Epoch:20.The Model Accuracy is:70.0 and the loss is:0.6038755774497986.With A Test Accuracy Of 87.5.\n",
      "\n",
      "On Epoch:21.The Model Accuracy is:68.33333587646484 and the loss is:0.6693229675292969.With A Test Accuracy Of 62.5.\n",
      "\n",
      "On Epoch:22.The Model Accuracy is:65.0 and the loss is:0.6849695444107056.With A Test Accuracy Of 75.0.\n",
      "\n",
      "On Epoch:23.The Model Accuracy is:71.66666412353516 and the loss is:0.5592285990715027.With A Test Accuracy Of 50.0.\n",
      "\n",
      "On Epoch:24.The Model Accuracy is:71.66666412353516 and the loss is:0.5836253762245178.With A Test Accuracy Of 87.5.\n",
      "\n",
      "On Epoch:25.The Model Accuracy is:72.5 and the loss is:0.5447946786880493.With A Test Accuracy Of 87.5.\n",
      "\n",
      "On Epoch:26.The Model Accuracy is:72.5 and the loss is:0.5014826655387878.With A Test Accuracy Of 75.0.\n",
      "\n",
      "On Epoch:27.The Model Accuracy is:73.33333587646484 and the loss is:0.5102721452713013.With A Test Accuracy Of 75.0.\n",
      "\n",
      "On Epoch:28.The Model Accuracy is:71.66666412353516 and the loss is:0.4888679087162018.With A Test Accuracy Of 62.5.\n",
      "\n",
      "On Epoch:29.The Model Accuracy is:71.66666412353516 and the loss is:0.5037527680397034.With A Test Accuracy Of 75.0.\n",
      "\n",
      "On Epoch:30.The Model Accuracy is:73.33333587646484 and the loss is:0.45895689725875854.With A Test Accuracy Of 75.0.\n",
      "\n",
      "On Epoch:31.The Model Accuracy is:71.66666412353516 and the loss is:0.4746699035167694.With A Test Accuracy Of 75.0.\n",
      "\n",
      "On Epoch:32.The Model Accuracy is:72.5 and the loss is:0.46114516258239746.With A Test Accuracy Of 50.0.\n",
      "\n",
      "On Epoch:33.The Model Accuracy is:73.33333587646484 and the loss is:0.44358959794044495.With A Test Accuracy Of 62.5.\n",
      "\n",
      "On Epoch:34.The Model Accuracy is:74.16666412353516 and the loss is:0.44132140278816223.With A Test Accuracy Of 87.5.\n",
      "\n",
      "On Epoch:35.The Model Accuracy is:74.16666412353516 and the loss is:0.40743353962898254.With A Test Accuracy Of 75.0.\n",
      "\n",
      "On Epoch:36.The Model Accuracy is:74.16666412353516 and the loss is:0.395843505859375.With A Test Accuracy Of 75.0.\n",
      "\n",
      "On Epoch:37.The Model Accuracy is:74.16666412353516 and the loss is:0.38533827662467957.With A Test Accuracy Of 87.5.\n",
      "\n",
      "On Epoch:38.The Model Accuracy is:74.16666412353516 and the loss is:0.3953843116760254.With A Test Accuracy Of 75.0.\n",
      "\n",
      "On Epoch:39.The Model Accuracy is:74.16666412353516 and the loss is:0.3900085687637329.With A Test Accuracy Of 75.0.\n",
      "\n"
     ]
    }
   ],
   "source": [
    "InitializeTheModel(True)"
   ]
  }
 ],
 "metadata": {
  "interpreter": {
   "hash": "d79c3f6fa3cdc3f8c7431c9578e5f62c4819b1b6aff3868023143e426bc4cb3f"
  },
  "kernelspec": {
   "display_name": "Python 3.9.7 ('cdpy39')",
   "language": "python",
   "name": "python3"
  },
  "language_info": {
   "codemirror_mode": {
    "name": "ipython",
    "version": 3
   },
   "file_extension": ".py",
   "mimetype": "text/x-python",
   "name": "python",
   "nbconvert_exporter": "python",
   "pygments_lexer": "ipython3",
   "version": "3.9.7"
  },
  "orig_nbformat": 4
 },
 "nbformat": 4,
 "nbformat_minor": 2
}
